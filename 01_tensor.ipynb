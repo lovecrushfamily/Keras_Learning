{
 "cells": [
  {
   "cell_type": "markdown",
   "metadata": {},
   "source": [
    "## Tensorflow Tensor Fundamental\n",
    "\n",
    "- *Tensorflow is an open-source end-to-end machine learning library for preprocessing data, modeling data and serving, models, (getting them into the hands of others)*"
   ]
  },
  {
   "cell_type": "code",
   "execution_count": 20,
   "metadata": {},
   "outputs": [
    {
     "name": "stdout",
     "output_type": "stream",
     "text": [
      "2.17.0\n"
     ]
    }
   ],
   "source": [
    "import tensorflow as tf\n",
    "\n",
    "print(tf.__version__)"
   ]
  },
  {
   "cell_type": "markdown",
   "metadata": {},
   "source": [
    "***\n",
    "\n",
    "## Tensor\n",
    "\n",
    "- *Tensor is kinda a friend of array numpy, but instead it's living in GPU not CPU*"
   ]
  },
  {
   "cell_type": "markdown",
   "metadata": {},
   "source": [
    "### *Scalar (0-dimensional tensor)*"
   ]
  },
  {
   "cell_type": "code",
   "execution_count": 21,
   "metadata": {},
   "outputs": [
    {
     "data": {
      "text/plain": [
       "<tf.Tensor: shape=(), dtype=int32, numpy=16>"
      ]
     },
     "execution_count": 21,
     "metadata": {},
     "output_type": "execute_result"
    }
   ],
   "source": [
    "tensor_scalar = tf.constant(16)\n",
    "tensor_scalar"
   ]
  },
  {
   "cell_type": "markdown",
   "metadata": {},
   "source": [
    "#### Check the dimension of tensor"
   ]
  },
  {
   "cell_type": "code",
   "execution_count": 22,
   "metadata": {},
   "outputs": [
    {
     "data": {
      "text/plain": [
       "0"
      ]
     },
     "execution_count": 22,
     "metadata": {},
     "output_type": "execute_result"
    }
   ],
   "source": [
    "tensor_scalar.ndim"
   ]
  },
  {
   "cell_type": "markdown",
   "metadata": {},
   "source": [
    "### *Vector (1-dimensional tensor)*"
   ]
  },
  {
   "cell_type": "code",
   "execution_count": 23,
   "metadata": {},
   "outputs": [
    {
     "data": {
      "text/plain": [
       "<tf.Tensor: shape=(3,), dtype=int32, numpy=array([  16,   10, 2004], dtype=int32)>"
      ]
     },
     "execution_count": 23,
     "metadata": {},
     "output_type": "execute_result"
    }
   ],
   "source": [
    "vector = tf.constant([16,10,2004])\n",
    "vector"
   ]
  },
  {
   "cell_type": "code",
   "execution_count": 24,
   "metadata": {},
   "outputs": [
    {
     "data": {
      "text/plain": [
       "1"
      ]
     },
     "execution_count": 24,
     "metadata": {},
     "output_type": "execute_result"
    }
   ],
   "source": [
    "vector.ndim"
   ]
  },
  {
   "cell_type": "markdown",
   "metadata": {},
   "source": [
    "### *Matrix (2-dimensional tensor)*"
   ]
  },
  {
   "cell_type": "code",
   "execution_count": 25,
   "metadata": {},
   "outputs": [
    {
     "data": {
      "text/plain": [
       "<tf.Tensor: shape=(2, 3), dtype=float32, numpy=\n",
       "array([[  16.,   10., 2004.],\n",
       "       [  17.,   10., 2004.]], dtype=float32)>"
      ]
     },
     "execution_count": 25,
     "metadata": {},
     "output_type": "execute_result"
    }
   ],
   "source": [
    "TENSOR_MATRIX = tf.constant([[16,10,2004],\n",
    "                             [17,10,2004.0]], dtype=tf.float32)\n",
    "\n",
    "\n",
    "TENSOR_MATRIX"
   ]
  },
  {
   "cell_type": "markdown",
   "metadata": {},
   "source": [
    "#### Check dimensional of matrix"
   ]
  },
  {
   "cell_type": "code",
   "execution_count": 26,
   "metadata": {},
   "outputs": [
    {
     "data": {
      "text/plain": [
       "2"
      ]
     },
     "execution_count": 26,
     "metadata": {},
     "output_type": "execute_result"
    }
   ],
   "source": [
    "TENSOR_MATRIX.ndim"
   ]
  },
  {
   "cell_type": "markdown",
   "metadata": {},
   "source": [
    "#### Check the shape of the matrix"
   ]
  },
  {
   "cell_type": "code",
   "execution_count": 27,
   "metadata": {},
   "outputs": [
    {
     "data": {
      "text/plain": [
       "TensorShape([2, 3])"
      ]
     },
     "execution_count": 27,
     "metadata": {},
     "output_type": "execute_result"
    }
   ],
   "source": [
    "TENSOR_MATRIX.shape"
   ]
  },
  {
   "cell_type": "markdown",
   "metadata": {},
   "source": [
    "### *Tensor (multiple-dimensional tensor)*\n",
    "\n",
    "- *All of those scalar, vector, matrix above are also technically tensor*"
   ]
  },
  {
   "cell_type": "code",
   "execution_count": 28,
   "metadata": {},
   "outputs": [
    {
     "data": {
      "text/plain": [
       "<tf.Tensor: shape=(1, 1, 3, 3), dtype=int32, numpy=\n",
       "array([[[[  16,   10, 2004],\n",
       "         [   9,    3, 1986],\n",
       "         [   4,    1, 2004]]]], dtype=int32)>"
      ]
     },
     "execution_count": 28,
     "metadata": {},
     "output_type": "execute_result"
    }
   ],
   "source": [
    "tensor = tf.constant([[[[16,10,2004],\n",
    "                       [9,3,1986],\n",
    "                       [4,1,2004]]]])\n",
    "tensor"
   ]
  },
  {
   "cell_type": "markdown",
   "metadata": {},
   "source": [
    "#### Dimension\n",
    "\n",
    "- *Number of bracket that tensor have*"
   ]
  },
  {
   "cell_type": "code",
   "execution_count": 29,
   "metadata": {},
   "outputs": [
    {
     "data": {
      "text/plain": [
       "4"
      ]
     },
     "execution_count": 29,
     "metadata": {},
     "output_type": "execute_result"
    }
   ],
   "source": [
    "tensor.ndim"
   ]
  },
  {
   "cell_type": "markdown",
   "metadata": {},
   "source": [
    "#### Shape\n",
    "\n",
    "- *Shape: The length (number of elements) of each of the dimensions of a tensor.*\n"
   ]
  },
  {
   "cell_type": "code",
   "execution_count": 30,
   "metadata": {},
   "outputs": [
    {
     "data": {
      "text/plain": [
       "TensorShape([1, 1, 3, 3])"
      ]
     },
     "execution_count": 30,
     "metadata": {},
     "output_type": "execute_result"
    }
   ],
   "source": [
    "tensor.shape"
   ]
  },
  {
   "cell_type": "markdown",
   "metadata": {},
   "source": [
    "#### Size\n",
    "\n",
    "- *Size: The total number of items in the tensor.*"
   ]
  },
  {
   "cell_type": "code",
   "execution_count": 31,
   "metadata": {},
   "outputs": [
    {
     "data": {
      "text/plain": [
       "<tf.Tensor: shape=(), dtype=int32, numpy=9>"
      ]
     },
     "execution_count": 31,
     "metadata": {},
     "output_type": "execute_result"
    }
   ],
   "source": [
    "tf.size(tensor)"
   ]
  },
  {
   "cell_type": "markdown",
   "metadata": {},
   "source": [
    "#### Rank\n",
    "\n",
    "- *Rank: The number of tensor dimensions. A scalar has rank 0, a vector has rank 1, a matrix is rank 2, a tensor has rank n.*"
   ]
  },
  {
   "cell_type": "code",
   "execution_count": 32,
   "metadata": {},
   "outputs": [
    {
     "data": {
      "text/plain": [
       "<tf.Tensor: shape=(), dtype=int32, numpy=4>"
      ]
     },
     "execution_count": 32,
     "metadata": {},
     "output_type": "execute_result"
    }
   ],
   "source": [
    "tf.rank(tensor)"
   ]
  },
  {
   "cell_type": "markdown",
   "metadata": {},
   "source": [
    "***\n",
    "### *tf.constant & tf.Variable*\n",
    "\n",
    "- *The differences between tf.constant() and tf.Variable() is tensors created with tf.constant() are immutable, whereas tensors created with tf.Variable() are mutable*"
   ]
  },
  {
   "cell_type": "code",
   "execution_count": 33,
   "metadata": {},
   "outputs": [
    {
     "data": {
      "text/plain": [
       "<tf.Variable 'Variable:0' shape=(3,) dtype=int32, numpy=array([  16,   10, 2004], dtype=int32)>"
      ]
     },
     "execution_count": 33,
     "metadata": {},
     "output_type": "execute_result"
    }
   ],
   "source": [
    "mutable_tensor = tf.Variable([16,10,2004])\n",
    "immutable_tensor = tf.constant([17,10,2004])\n",
    "\n",
    "mutable_tensor"
   ]
  },
  {
   "cell_type": "markdown",
   "metadata": {},
   "source": [
    "#### Assign item functionally"
   ]
  },
  {
   "cell_type": "code",
   "execution_count": 34,
   "metadata": {},
   "outputs": [],
   "source": [
    "# mutable_tensor[0] = 15"
   ]
  },
  {
   "cell_type": "markdown",
   "metadata": {},
   "source": [
    "#### Mutable tensor\n",
    "\n",
    "- *Change tensor items by using its built-in func*"
   ]
  },
  {
   "cell_type": "code",
   "execution_count": 35,
   "metadata": {},
   "outputs": [
    {
     "data": {
      "text/plain": [
       "<tf.Variable 'Variable:0' shape=(3,) dtype=int32, numpy=array([  15,   10, 2004], dtype=int32)>"
      ]
     },
     "execution_count": 35,
     "metadata": {},
     "output_type": "execute_result"
    }
   ],
   "source": [
    "mutable_tensor[0].assign(15)\n",
    "mutable_tensor"
   ]
  },
  {
   "cell_type": "markdown",
   "metadata": {},
   "source": [
    "#### Immutable tensor"
   ]
  },
  {
   "cell_type": "code",
   "execution_count": 36,
   "metadata": {},
   "outputs": [],
   "source": [
    "# immutable_tensor[0].assign(15)\n"
   ]
  },
  {
   "cell_type": "markdown",
   "metadata": {},
   "source": [
    "***\n",
    "## Random Tensor"
   ]
  },
  {
   "cell_type": "code",
   "execution_count": 37,
   "metadata": {},
   "outputs": [
    {
     "data": {
      "text/plain": [
       "<tf.Tensor: shape=(10,), dtype=float32, numpy=\n",
       "array([-0.63509274,  0.3703566 , -1.0939722 , -0.46014452,  1.5420506 ,\n",
       "       -0.16822556, -0.43908644, -0.41292423,  0.35877243, -1.9095894 ],\n",
       "      dtype=float32)>"
      ]
     },
     "execution_count": 37,
     "metadata": {},
     "output_type": "execute_result"
    }
   ],
   "source": [
    "seed = 16       # set the seed for reproducibility\n",
    "\n",
    "ran_generator = tf.random.Generator.from_seed(seed)\n",
    "ran_tensor = ran_generator.normal(shape=(16,10))                # Create tensor from normal distribution\n",
    "ran_tensor[0]\n",
    "\n"
   ]
  },
  {
   "cell_type": "markdown",
   "metadata": {},
   "source": [
    "### *Shuffle tensor (without seed)*"
   ]
  },
  {
   "cell_type": "code",
   "execution_count": 38,
   "metadata": {},
   "outputs": [
    {
     "data": {
      "text/plain": [
       "<tf.Tensor: shape=(2, 10), dtype=float32, numpy=\n",
       "array([[ 0.959224  ,  0.85874265, -1.518177  ,  1.4020647 ,  1.5570306 ,\n",
       "        -0.96762174,  0.49529105, -0.648484  , -1.8700892 ,  2.7830641 ],\n",
       "       [-2.3001142 , -1.349454  ,  0.81485   ,  1.2790666 ,  0.02203509,\n",
       "         1.5428121 ,  0.78953624,  0.53897345, -0.48535708,  0.74055266]],\n",
       "      dtype=float32)>"
      ]
     },
     "execution_count": 38,
     "metadata": {},
     "output_type": "execute_result"
    }
   ],
   "source": [
    "shuffled_tensor = tf.random.shuffle(ran_tensor)\n",
    "shuffled_tensor[0:2]"
   ]
  },
  {
   "cell_type": "markdown",
   "metadata": {},
   "source": [
    "### *Shuffle tensor (with seed)*\n",
    "\n",
    "- *No difference al all*\n",
    "\n",
    "- *Why?, It's due to the rule#4 of set radom seed (global level and operation level)*\n",
    "\n",
    "- *Rule#4: If both the global and operation seed are set: Both seeds are used in conjunction to determine the random sequence.*\n",
    "\n",
    "- *And we not set the global seed later then*"
   ]
  },
  {
   "cell_type": "code",
   "execution_count": 39,
   "metadata": {},
   "outputs": [
    {
     "data": {
      "text/plain": [
       "<tf.Tensor: shape=(2, 10), dtype=float32, numpy=\n",
       "array([[-2.3001142 , -1.349454  ,  0.81485   ,  1.2790666 ,  0.02203509,\n",
       "         1.5428121 ,  0.78953624,  0.53897345, -0.48535708,  0.74055266],\n",
       "       [ 0.09988727, -0.50998646, -0.7535806 , -0.5716629 ,  0.1480774 ,\n",
       "        -0.23362991, -0.3522796 ,  0.40621266, -1.0523509 ,  1.2054597 ]],\n",
       "      dtype=float32)>"
      ]
     },
     "execution_count": 39,
     "metadata": {},
     "output_type": "execute_result"
    }
   ],
   "source": [
    "shuffled_tensor = tf.random.shuffle(ran_tensor, seed=16)\n",
    "shuffled_tensor[0:2]"
   ]
  },
  {
   "cell_type": "markdown",
   "metadata": {},
   "source": [
    "### *Set global seed*\n",
    "\n",
    "- *How?*\n",
    "\n",
    "- **tf.random.set_seed(10)** : *Set the global seed*\n",
    "\n",
    "- **tf.random.shuffle(..., seed=10)** : *Set the operation seed*\n",
    "\n",
    "- *Because, \"Operation that rely on a random  seed actually derive it from two seeds: the global and operation-level seeds. This make the predictable random sequence\"*"
   ]
  },
  {
   "cell_type": "code",
   "execution_count": 40,
   "metadata": {},
   "outputs": [
    {
     "data": {
      "text/plain": [
       "<tf.Tensor: shape=(2, 10), dtype=float32, numpy=\n",
       "array([[-1.0345329 ,  1.3066901 , -1.5184573 , -0.4585211 ,  0.5714663 ,\n",
       "        -1.5331722 ,  0.45331386,  1.1487608 , -1.2659091 , -0.47450137],\n",
       "       [ 0.959224  ,  0.85874265, -1.518177  ,  1.4020647 ,  1.5570306 ,\n",
       "        -0.96762174,  0.49529105, -0.648484  , -1.8700892 ,  2.7830641 ]],\n",
       "      dtype=float32)>"
      ]
     },
     "execution_count": 40,
     "metadata": {},
     "output_type": "execute_result"
    }
   ],
   "source": [
    "tf.random.set_seed(2004)                                    # ! Set the global random seed\n",
    "\n",
    "shuffled_tensor = tf.random.shuffle(ran_tensor, seed=10)    # ! Set the operation-level seed\n",
    "shuffled_tensor[0:2]\n",
    "\n"
   ]
  },
  {
   "cell_type": "code",
   "execution_count": 41,
   "metadata": {},
   "outputs": [
    {
     "data": {
      "text/plain": [
       "<tf.Tensor: shape=(2, 10), dtype=float32, numpy=\n",
       "array([[ 0.18706241,  0.66179603,  0.01380118, -0.24827152,  1.2111493 ,\n",
       "        -0.7199124 , -0.04082382,  2.6791053 ,  1.0914805 ,  0.33149612],\n",
       "       [-0.63509274,  0.3703566 , -1.0939722 , -0.46014452,  1.5420506 ,\n",
       "        -0.16822556, -0.43908644, -0.41292423,  0.35877243, -1.9095894 ]],\n",
       "      dtype=float32)>"
      ]
     },
     "execution_count": 41,
     "metadata": {},
     "output_type": "execute_result"
    }
   ],
   "source": [
    "shuffled_tensor = tf.random.shuffle(ran_tensor)\n",
    "shuffled_tensor[0:2]"
   ]
  },
  {
   "cell_type": "markdown",
   "metadata": {},
   "source": [
    "***\n",
    "\n",
    "## Zeros and Ones"
   ]
  },
  {
   "cell_type": "code",
   "execution_count": 42,
   "metadata": {},
   "outputs": [
    {
     "data": {
      "text/plain": [
       "<tf.Tensor: shape=(16,), dtype=float32, numpy=\n",
       "array([0., 0., 0., 0., 0., 0., 0., 0., 0., 0., 0., 0., 0., 0., 0., 0.],\n",
       "      dtype=float32)>"
      ]
     },
     "execution_count": 42,
     "metadata": {},
     "output_type": "execute_result"
    }
   ],
   "source": [
    "zeros_tensor = tf.zeros(shape=([16]))\n",
    "zeros_tensor"
   ]
  },
  {
   "cell_type": "code",
   "execution_count": 43,
   "metadata": {},
   "outputs": [
    {
     "data": {
      "text/plain": [
       "<tf.Tensor: shape=(1, 16), dtype=float32, numpy=\n",
       "array([[1., 1., 1., 1., 1., 1., 1., 1., 1., 1., 1., 1., 1., 1., 1., 1.]],\n",
       "      dtype=float32)>"
      ]
     },
     "execution_count": 43,
     "metadata": {},
     "output_type": "execute_result"
    }
   ],
   "source": [
    "ones_tensor = tf.ones(shape=(1,16))\n",
    "ones_tensor"
   ]
  },
  {
   "cell_type": "markdown",
   "metadata": {},
   "source": [
    "## Zeros_like & Ones_likes\n",
    "\n",
    "- *Turn any tensor into zeros or ones tensor*"
   ]
  },
  {
   "cell_type": "code",
   "execution_count": 44,
   "metadata": {},
   "outputs": [
    {
     "data": {
      "text/plain": [
       "<tf.Tensor: shape=(1, 1, 3, 3), dtype=int32, numpy=\n",
       "array([[[[0, 0, 0],\n",
       "         [0, 0, 0],\n",
       "         [0, 0, 0]]]], dtype=int32)>"
      ]
     },
     "execution_count": 44,
     "metadata": {},
     "output_type": "execute_result"
    }
   ],
   "source": [
    "zeros_like_tensor = tf.zeros_like(tensor)\n",
    "zeros_like_tensor\n",
    "\n"
   ]
  },
  {
   "cell_type": "code",
   "execution_count": 45,
   "metadata": {},
   "outputs": [
    {
     "data": {
      "text/plain": [
       "<tf.Tensor: shape=(1, 1, 3, 3), dtype=float32, numpy=\n",
       "array([[[[1., 1., 1.],\n",
       "         [1., 1., 1.],\n",
       "         [1., 1., 1.]]]], dtype=float32)>"
      ]
     },
     "execution_count": 45,
     "metadata": {},
     "output_type": "execute_result"
    }
   ],
   "source": [
    "ones_like_tensor = tf.ones_like(tensor, dtype=tf.float32)\n",
    "ones_like_tensor"
   ]
  },
  {
   "cell_type": "markdown",
   "metadata": {},
   "source": [
    "## Tensor within a range"
   ]
  },
  {
   "cell_type": "code",
   "execution_count": 46,
   "metadata": {},
   "outputs": [
    {
     "data": {
      "text/plain": [
       "<tf.Tensor: shape=(33,), dtype=int32, numpy=\n",
       "array([ 2,  5,  8, 11, 14, 17, 20, 23, 26, 29, 32, 35, 38, 41, 44, 47, 50,\n",
       "       53, 56, 59, 62, 65, 68, 71, 74, 77, 80, 83, 86, 89, 92, 95, 98],\n",
       "      dtype=int32)>"
      ]
     },
     "execution_count": 46,
     "metadata": {},
     "output_type": "execute_result"
    }
   ],
   "source": [
    "range_tensor = tf.range(2,100, 3)\n",
    "range_tensor"
   ]
  },
  {
   "cell_type": "markdown",
   "metadata": {},
   "source": [
    "***\n",
    "## Manipulating Tensor (Operations)\n",
    "\n",
    "- *Scalar Operations (addition, subtraction, division, multiplication)*\n",
    "\n",
    "- *Matrix Operations*"
   ]
  },
  {
   "cell_type": "markdown",
   "metadata": {},
   "source": [
    "### *Matrix multiplication*\n",
    "\n",
    "Rules for matrix multiplication\n",
    "\n",
    "1. The inner dimensions must match:\n",
    "\n",
    "        (3, 5) @ (3, 5) won't work\n",
    "        (5, 3) @ (3, 5) will work\n",
    "        (3, 5) @ (5, 3) will work\n",
    "\n",
    "2. The resulting matrix has the shape of the outer dimensions:\n",
    "\n",
    "        (5, 3) @ (3, 5) -> (5, 5)\n",
    "        (3, 5) @ (5, 3) -> (3, 3)\n",
    "\n",
    "\n",
    "*🔑 Note: '@' in Python is the symbol for matrix multiplication.*\n",
    "\n",
    "Other way to perform matrix multiplication:\n",
    "- **torch.matmul()**\n",
    "- **Tensor.matmul()**\n",
    "\n",
    "*Matrix multiplication like this is also referred to as the **dot product** of two matrices*\n",
    "\n"
   ]
  },
  {
   "cell_type": "code",
   "execution_count": 47,
   "metadata": {},
   "outputs": [],
   "source": [
    "tensor_16x10 = ran_generator.normal(shape=(16,10))\n",
    "tensor_10x16 = ran_generator.normal(shape=(10,16))\n"
   ]
  },
  {
   "cell_type": "markdown",
   "metadata": {},
   "source": [
    "#### Using built-in tf.matmul(..,...) func"
   ]
  },
  {
   "cell_type": "code",
   "execution_count": 106,
   "metadata": {},
   "outputs": [
    {
     "data": {
      "text/plain": [
       "<tf.Tensor: shape=(16, 16), dtype=float32, numpy=\n",
       "array([[ 4.2038293 , -3.972705  ,  1.4909074 ,  4.44551   ,  2.0857296 ,\n",
       "        -4.7100725 , -1.0329397 ,  1.8675054 ,  3.4897459 , -0.7453317 ,\n",
       "         1.4956397 ,  0.40196013, -3.3873055 , -3.412331  , -2.0619242 ,\n",
       "         0.47847193],\n",
       "       [-4.553067  , -1.3557166 , -1.4219984 , -5.2959957 , -0.73925716,\n",
       "         0.66965055,  4.0238295 , -1.4578154 , -2.6669    , -0.7636551 ,\n",
       "        -1.0731478 , -4.705254  ,  1.1987076 ,  2.6519995 ,  4.7364674 ,\n",
       "        -4.1269283 ],\n",
       "       [-8.181668  , -0.5916847 ,  4.165633  , -7.31096   ,  2.977646  ,\n",
       "         4.3029566 ,  1.7791419 , -2.3690608 , -0.7356029 ,  0.10256758,\n",
       "         6.3211026 ,  4.843779  , -6.93559   , -3.8951476 ,  2.5149715 ,\n",
       "         0.09122634],\n",
       "       [ 6.541566  ,  1.7434082 ,  0.44736147,  2.3959453 , -3.3165853 ,\n",
       "         1.303717  , -1.2798717 ,  1.7798505 ,  1.3120034 ,  5.947422  ,\n",
       "        -5.8956766 , -0.723768  ,  5.0983133 , -7.0033283 ,  4.5914655 ,\n",
       "         0.10991415],\n",
       "       [ 3.3728166 ,  3.4164133 ,  2.1144018 ,  2.9842803 ,  2.1724596 ,\n",
       "        -6.866328  , -1.6201525 ,  0.326276  ,  3.2782028 , -4.100302  ,\n",
       "        -1.1126965 ,  2.2373228 , -2.6469498 ,  2.7289934 , -2.594213  ,\n",
       "        -2.5410218 ],\n",
       "       [ 2.0877867 ,  4.2446103 , -0.14384729, -0.5940675 , -4.6338    ,\n",
       "        -3.9074326 , -4.3388395 , -0.25361755,  1.8101346 , -3.3738973 ,\n",
       "         1.3131726 ,  2.5558305 , -0.6008269 ,  8.790642  , -3.562552  ,\n",
       "        -2.9186616 ],\n",
       "       [ 2.3743093 ,  1.8169043 ,  0.9408628 ,  3.8276222 , -4.386392  ,\n",
       "         0.8296766 , -3.972877  ,  3.6781957 , -4.400138  ,  4.3766274 ,\n",
       "        -0.91113746,  7.967309  , -2.9480274 , -4.9065194 , -3.9463594 ,\n",
       "         1.3385426 ],\n",
       "       [ 5.9905686 , -2.4653838 ,  2.6715825 ,  9.484375  ,  1.4020891 ,\n",
       "        -3.0610125 , -2.6425128 ,  1.3997624 ,  7.2091393 , -0.23213518,\n",
       "        -1.5370607 ,  2.0346894 , -2.8558815 , -2.0610433 , -1.7622133 ,\n",
       "         0.27985185],\n",
       "       [ 4.204381  , -1.0186045 , -1.8159599 ,  2.5965834 ,  0.39656729,\n",
       "        -3.5562859 ,  0.6826143 , -0.72175884,  6.077727  , -2.5853806 ,\n",
       "        -4.9494514 , -5.4040556 ,  3.5018253 ,  3.9115012 ,  4.642038  ,\n",
       "        -3.6406174 ],\n",
       "       [ 3.240809  , -3.166923  , -2.102804  , 11.364772  ,  5.9187775 ,\n",
       "        -4.868952  ,  0.9870658 ,  1.4741371 ,  2.884596  , -4.189112  ,\n",
       "        -4.5713286 , -1.6167222 , -1.1025726 ,  2.064217  , -4.4020176 ,\n",
       "         0.97704434],\n",
       "       [ 5.124121  ,  0.5843624 , -5.739447  ,  4.200367  , -3.161109  ,\n",
       "        -0.30751956, -5.402778  ,  2.958084  , -0.7045943 ,  0.30256474,\n",
       "        -1.2965124 ,  4.2023635 ,  1.9510015 ,  1.2769245 , -4.885516  ,\n",
       "         4.3087783 ],\n",
       "       [ 1.9883388 , -2.4811554 ,  5.144899  ,  1.644439  , -1.7349718 ,\n",
       "        -1.5097575 , -0.86680144,  0.65419495,  4.364903  ,  2.353269  ,\n",
       "         0.60936904,  2.188482  , -4.8228335 , -4.875493  ,  2.7622936 ,\n",
       "        -3.5212343 ],\n",
       "       [-2.5167353 , -3.1402574 , -0.2617957 , -1.5407767 ,  9.222048  ,\n",
       "        -8.316933  ,  2.115841  , -0.5040214 ,  3.019805  , -7.890341  ,\n",
       "         4.0738735 ,  1.6076432 , -8.443431  , -0.15358397, -3.664836  ,\n",
       "        -0.6761725 ],\n",
       "       [-1.6850853 ,  0.6883681 ,  0.37067223,  0.26655087, -1.6034479 ,\n",
       "         2.443623  , -0.38289532,  0.72691154, -2.7367377 ,  2.1948981 ,\n",
       "        -0.7752856 ,  3.3098733 , -1.5227034 , -2.0794067 , -0.24592449,\n",
       "         0.05721887],\n",
       "       [-1.105964  ,  1.8306277 ,  4.3615723 , -0.5067435 , -7.641137  ,\n",
       "         1.7454984 , -0.05216716, -0.45038232, -0.91132474,  4.365355  ,\n",
       "        -2.0151026 , -0.0220585 , -0.36149374,  0.8433604 ,  1.63641   ,\n",
       "        -5.8792844 ],\n",
       "       [-0.34924266,  0.25850713, -0.6943333 , -1.7374266 , -1.2056674 ,\n",
       "        -0.18920638, -3.5680823 ,  0.66740847, -0.5759064 , -1.6203213 ,\n",
       "         5.038434  ,  4.943212  , -3.1062303 ,  2.0805511 , -3.1420503 ,\n",
       "         1.9677117 ]], dtype=float32)>"
      ]
     },
     "execution_count": 106,
     "metadata": {},
     "output_type": "execute_result"
    }
   ],
   "source": [
    "# (16,10) @ (10, 16) -> (16,16)\n",
    "tensor_16x16 = tf.matmul(tensor_16x10, tensor_10x16)\n",
    "tensor_16x16"
   ]
  },
  {
   "cell_type": "markdown",
   "metadata": {},
   "source": [
    "#### Using built-in tf.tensordot()"
   ]
  },
  {
   "cell_type": "code",
   "execution_count": 105,
   "metadata": {},
   "outputs": [
    {
     "data": {
      "text/plain": [
       "<tf.Tensor: shape=(16, 16), dtype=float32, numpy=\n",
       "array([[ 4.2038293 , -3.972705  ,  1.4909074 ,  4.44551   ,  2.0857296 ,\n",
       "        -4.7100725 , -1.0329397 ,  1.8675054 ,  3.4897459 , -0.7453317 ,\n",
       "         1.4956397 ,  0.40196013, -3.3873055 , -3.412331  , -2.0619242 ,\n",
       "         0.47847193],\n",
       "       [-4.553067  , -1.3557166 , -1.4219984 , -5.2959957 , -0.73925716,\n",
       "         0.66965055,  4.0238295 , -1.4578154 , -2.6669    , -0.7636551 ,\n",
       "        -1.0731478 , -4.705254  ,  1.1987076 ,  2.6519995 ,  4.7364674 ,\n",
       "        -4.1269283 ],\n",
       "       [-8.181668  , -0.5916847 ,  4.165633  , -7.31096   ,  2.977646  ,\n",
       "         4.3029566 ,  1.7791419 , -2.3690608 , -0.7356029 ,  0.10256758,\n",
       "         6.3211026 ,  4.843779  , -6.93559   , -3.8951476 ,  2.5149715 ,\n",
       "         0.09122634],\n",
       "       [ 6.541566  ,  1.7434082 ,  0.44736147,  2.3959453 , -3.3165853 ,\n",
       "         1.303717  , -1.2798717 ,  1.7798505 ,  1.3120034 ,  5.947422  ,\n",
       "        -5.8956766 , -0.723768  ,  5.0983133 , -7.0033283 ,  4.5914655 ,\n",
       "         0.10991415],\n",
       "       [ 3.3728166 ,  3.4164133 ,  2.1144018 ,  2.9842803 ,  2.1724596 ,\n",
       "        -6.866328  , -1.6201525 ,  0.326276  ,  3.2782028 , -4.100302  ,\n",
       "        -1.1126965 ,  2.2373228 , -2.6469498 ,  2.7289934 , -2.594213  ,\n",
       "        -2.5410218 ],\n",
       "       [ 2.0877867 ,  4.2446103 , -0.14384729, -0.5940675 , -4.6338    ,\n",
       "        -3.9074326 , -4.3388395 , -0.25361755,  1.8101346 , -3.3738973 ,\n",
       "         1.3131726 ,  2.5558305 , -0.6008269 ,  8.790642  , -3.562552  ,\n",
       "        -2.9186616 ],\n",
       "       [ 2.3743093 ,  1.8169043 ,  0.9408628 ,  3.8276222 , -4.386392  ,\n",
       "         0.8296766 , -3.972877  ,  3.6781957 , -4.400138  ,  4.3766274 ,\n",
       "        -0.91113746,  7.967309  , -2.9480274 , -4.9065194 , -3.9463594 ,\n",
       "         1.3385426 ],\n",
       "       [ 5.9905686 , -2.4653838 ,  2.6715825 ,  9.484375  ,  1.4020891 ,\n",
       "        -3.0610125 , -2.6425128 ,  1.3997624 ,  7.2091393 , -0.23213518,\n",
       "        -1.5370607 ,  2.0346894 , -2.8558815 , -2.0610433 , -1.7622133 ,\n",
       "         0.27985185],\n",
       "       [ 4.204381  , -1.0186045 , -1.8159599 ,  2.5965834 ,  0.39656729,\n",
       "        -3.5562859 ,  0.6826143 , -0.72175884,  6.077727  , -2.5853806 ,\n",
       "        -4.9494514 , -5.4040556 ,  3.5018253 ,  3.9115012 ,  4.642038  ,\n",
       "        -3.6406174 ],\n",
       "       [ 3.240809  , -3.166923  , -2.102804  , 11.364772  ,  5.9187775 ,\n",
       "        -4.868952  ,  0.9870658 ,  1.4741371 ,  2.884596  , -4.189112  ,\n",
       "        -4.5713286 , -1.6167222 , -1.1025726 ,  2.064217  , -4.4020176 ,\n",
       "         0.97704434],\n",
       "       [ 5.124121  ,  0.5843624 , -5.739447  ,  4.200367  , -3.161109  ,\n",
       "        -0.30751956, -5.402778  ,  2.958084  , -0.7045943 ,  0.30256474,\n",
       "        -1.2965124 ,  4.2023635 ,  1.9510015 ,  1.2769245 , -4.885516  ,\n",
       "         4.3087783 ],\n",
       "       [ 1.9883388 , -2.4811554 ,  5.144899  ,  1.644439  , -1.7349718 ,\n",
       "        -1.5097575 , -0.86680144,  0.65419495,  4.364903  ,  2.353269  ,\n",
       "         0.60936904,  2.188482  , -4.8228335 , -4.875493  ,  2.7622936 ,\n",
       "        -3.5212343 ],\n",
       "       [-2.5167353 , -3.1402574 , -0.2617957 , -1.5407767 ,  9.222048  ,\n",
       "        -8.316933  ,  2.115841  , -0.5040214 ,  3.019805  , -7.890341  ,\n",
       "         4.0738735 ,  1.6076432 , -8.443431  , -0.15358397, -3.664836  ,\n",
       "        -0.6761725 ],\n",
       "       [-1.6850853 ,  0.6883681 ,  0.37067223,  0.26655087, -1.6034479 ,\n",
       "         2.443623  , -0.38289532,  0.72691154, -2.7367377 ,  2.1948981 ,\n",
       "        -0.7752856 ,  3.3098733 , -1.5227034 , -2.0794067 , -0.24592449,\n",
       "         0.05721887],\n",
       "       [-1.105964  ,  1.8306277 ,  4.3615723 , -0.5067435 , -7.641137  ,\n",
       "         1.7454984 , -0.05216716, -0.45038232, -0.91132474,  4.365355  ,\n",
       "        -2.0151026 , -0.0220585 , -0.36149374,  0.8433604 ,  1.63641   ,\n",
       "        -5.8792844 ],\n",
       "       [-0.34924266,  0.25850713, -0.6943333 , -1.7374266 , -1.2056674 ,\n",
       "        -0.18920638, -3.5680823 ,  0.66740847, -0.5759064 , -1.6203213 ,\n",
       "         5.038434  ,  4.943212  , -3.1062303 ,  2.0805511 , -3.1420503 ,\n",
       "         1.9677117 ]], dtype=float32)>"
      ]
     },
     "execution_count": 105,
     "metadata": {},
     "output_type": "execute_result"
    }
   ],
   "source": [
    "tf.tensordot(tensor_16x10, tensor_10x16, axes=1)"
   ]
  },
  {
   "cell_type": "markdown",
   "metadata": {},
   "source": [
    "#### Using python matrix multiplication operator"
   ]
  },
  {
   "cell_type": "code",
   "execution_count": 49,
   "metadata": {},
   "outputs": [
    {
     "data": {
      "text/plain": [
       "TensorShape([16, 16])"
      ]
     },
     "execution_count": 49,
     "metadata": {},
     "output_type": "execute_result"
    }
   ],
   "source": [
    "# (16,10) @ (10, 16) -> (16,16)\n",
    "tensor_16x16 = tensor_16x10 @ tensor_10x16\n",
    "tensor_16x16.shape"
   ]
  },
  {
   "cell_type": "code",
   "execution_count": 50,
   "metadata": {},
   "outputs": [
    {
     "data": {
      "text/plain": [
       "TensorShape([10, 10])"
      ]
     },
     "execution_count": 50,
     "metadata": {},
     "output_type": "execute_result"
    }
   ],
   "source": [
    "# (10,16) @ (16, 10) -> (10,10)\n",
    "tensor_10x10 = tensor_10x16 @ tensor_16x10 \n",
    "tensor_10x10.shape"
   ]
  },
  {
   "cell_type": "markdown",
   "metadata": {},
   "source": [
    "#### Mismatching shape\n",
    "\n",
    "- *Trying to matrix multiply two tensors with the shape (16, 16) and (10,10) errors because the inner dimensions don't match.*"
   ]
  },
  {
   "cell_type": "code",
   "execution_count": 54,
   "metadata": {},
   "outputs": [],
   "source": [
    "# tensor_16x16 @ tensor_10x10       # -> Error\n"
   ]
  },
  {
   "cell_type": "markdown",
   "metadata": {},
   "source": [
    "### *Element-wise multiplication*\n",
    "\n",
    "-  Suppose **s** and **t** are two vectors of the **same dimension**. Then we use **s ⊙ t** to denote the element-wise product of the two vectors. \n",
    "\n",
    "        [1 2] ⊙ [3 4] = [1x3  2x4] = [3 8]      -> Mathematical Notation \n",
    "        [1 2] * [3 4] = [1x3  2x4] = [3 8]      -> Programming Syntax\n",
    "\n",
    "*Element-wise multiplication is sometimes called the **Hadamard product** or **Schur product**, applied the same rule as matrix Addition, Subtraction*\n",
    "\n",
    "*This rule of same size applied for all kind of tensor*\n",
    "\n",
    "**Element-wise multiplication != Matrix multiplication**\n",
    "\n",
    "*Stay caffeinated*"
   ]
  },
  {
   "cell_type": "code",
   "execution_count": 57,
   "metadata": {},
   "outputs": [
    {
     "data": {
      "text/plain": [
       "<tf.Tensor: shape=(1, 1, 3, 3), dtype=int32, numpy=\n",
       "array([[[[  16,   10, 2004],\n",
       "         [   9,    3, 1986],\n",
       "         [   4,    1, 2004]]]], dtype=int32)>"
      ]
     },
     "execution_count": 57,
     "metadata": {},
     "output_type": "execute_result"
    }
   ],
   "source": [
    "tensor"
   ]
  },
  {
   "cell_type": "code",
   "execution_count": 58,
   "metadata": {},
   "outputs": [
    {
     "data": {
      "text/plain": [
       "<tf.Tensor: shape=(1, 1, 3, 3), dtype=int32, numpy=\n",
       "array([[[[    256,     100, 4016016],\n",
       "         [     81,       9, 3944196],\n",
       "         [     16,       1, 4016016]]]], dtype=int32)>"
      ]
     },
     "execution_count": 58,
     "metadata": {},
     "output_type": "execute_result"
    }
   ],
   "source": [
    "tensor * tensor\n"
   ]
  },
  {
   "cell_type": "markdown",
   "metadata": {},
   "source": [
    "### *Matrix addition, Subtraction, Division*\n",
    "\n",
    "**Rule**\n",
    "\n",
    "-   *The matrices are using for these kind of operators must be the same size (shape)*\n",
    "\n",
    "The rule are also applied for Matrices Subtraction, Addition, Division also"
   ]
  },
  {
   "cell_type": "code",
   "execution_count": 61,
   "metadata": {},
   "outputs": [
    {
     "data": {
      "text/plain": [
       "<tf.Tensor: shape=(1, 1, 3, 3), dtype=int32, numpy=\n",
       "array([[[[  32,   20, 4008],\n",
       "         [  18,    6, 3972],\n",
       "         [   8,    2, 4008]]]], dtype=int32)>"
      ]
     },
     "execution_count": 61,
     "metadata": {},
     "output_type": "execute_result"
    }
   ],
   "source": [
    "tensor + tensor"
   ]
  },
  {
   "cell_type": "markdown",
   "metadata": {},
   "source": [
    "***\n",
    "\n",
    "## Transpose matrix"
   ]
  },
  {
   "cell_type": "markdown",
   "metadata": {},
   "source": [
    "### *0-dimensional tensor transpose is deprecated*"
   ]
  },
  {
   "cell_type": "markdown",
   "metadata": {},
   "source": [
    "### *1-dimensional tensor*"
   ]
  },
  {
   "cell_type": "code",
   "execution_count": 62,
   "metadata": {},
   "outputs": [
    {
     "data": {
      "text/plain": [
       "<tf.Tensor: shape=(3,), dtype=int32, numpy=array([  16,   10, 2004], dtype=int32)>"
      ]
     },
     "execution_count": 62,
     "metadata": {},
     "output_type": "execute_result"
    }
   ],
   "source": [
    "vector"
   ]
  },
  {
   "cell_type": "code",
   "execution_count": 65,
   "metadata": {},
   "outputs": [
    {
     "data": {
      "text/plain": [
       "<tf.Tensor: shape=(3,), dtype=int32, numpy=array([  16,   10, 2004], dtype=int32)>"
      ]
     },
     "execution_count": 65,
     "metadata": {},
     "output_type": "execute_result"
    }
   ],
   "source": [
    "tf.transpose(vector)"
   ]
  },
  {
   "cell_type": "markdown",
   "metadata": {},
   "source": [
    "### *2-dimensional tensor*"
   ]
  },
  {
   "cell_type": "code",
   "execution_count": 69,
   "metadata": {},
   "outputs": [
    {
     "data": {
      "text/plain": [
       "<tf.Tensor: shape=(2, 3), dtype=float32, numpy=\n",
       "array([[  16.,   10., 2004.],\n",
       "       [  17.,   10., 2004.]], dtype=float32)>"
      ]
     },
     "execution_count": 69,
     "metadata": {},
     "output_type": "execute_result"
    }
   ],
   "source": [
    "TENSOR_MATRIX"
   ]
  },
  {
   "cell_type": "code",
   "execution_count": 68,
   "metadata": {},
   "outputs": [
    {
     "data": {
      "text/plain": [
       "<tf.Tensor: shape=(3, 2), dtype=float32, numpy=\n",
       "array([[  16.,   17.],\n",
       "       [  10.,   10.],\n",
       "       [2004., 2004.]], dtype=float32)>"
      ]
     },
     "execution_count": 68,
     "metadata": {},
     "output_type": "execute_result"
    }
   ],
   "source": [
    "tf.transpose(TENSOR_MATRIX)"
   ]
  },
  {
   "cell_type": "markdown",
   "metadata": {},
   "source": [
    "### *3-dimensional tensor*\n",
    "\n",
    "**I got it:**\n",
    "\n",
    "- *transpose mean that you indirectly reshape the matrix or the tensor, but in a simple way, that you just rearrange or swap the dimension of a tensor without redefine, that's it*\n",
    "\n",
    "        tensor.transpose(0,1) => swap the 0th dim to the 1th dim => \n",
    "        tensor.transpose(0,2) => swap the 0th dim to the 2th dim => tensor.T    (short-hand syntax)\n",
    "        tensor.transpose(1,2) => swap the 1th dim to the 2th dim => tensor.mT \n",
    "\n",
    "*There're much more things to play when we deal with higher multi-dimensional tensors, stay tuned*"
   ]
  },
  {
   "cell_type": "code",
   "execution_count": 92,
   "metadata": {},
   "outputs": [
    {
     "data": {
      "text/plain": [
       "<tf.Tensor: shape=(3, 4, 5), dtype=float32, numpy=\n",
       "array([[[-1.36147153e+00, -2.33377159e-01, -2.28903580e+00,\n",
       "          9.93328989e-02,  3.15539688e-01],\n",
       "        [ 1.04535581e-03,  5.71016848e-01,  1.03863835e+00,\n",
       "         -1.53552532e-01, -6.78686440e-01],\n",
       "        [ 1.21322966e+00, -3.41942906e-01,  1.23073947e+00,\n",
       "          9.98039961e-01,  1.21679735e+00],\n",
       "        [-1.27996218e+00,  3.57582390e-01, -6.28156513e-02,\n",
       "          2.63933444e+00,  6.26899004e-01]],\n",
       "\n",
       "       [[-7.67167449e-01,  9.24597621e-01, -1.93849206e+00,\n",
       "         -1.57898709e-01, -1.04575431e+00],\n",
       "        [-1.52267671e+00, -5.60429394e-01, -2.87943203e-02,\n",
       "         -5.75450361e-01,  6.66985452e-01],\n",
       "        [-2.95351446e-01,  2.36252218e-01,  3.06836069e-01,\n",
       "          2.21696403e-02, -4.53152269e-01],\n",
       "        [-1.03087842e+00,  9.21760499e-01,  1.37657726e+00,\n",
       "         -3.12642217e-01, -1.29235482e+00]],\n",
       "\n",
       "       [[-5.56336977e-02, -2.86156356e-01,  6.93222225e-01,\n",
       "          1.65933144e+00, -9.58449185e-01],\n",
       "        [-1.20679367e+00,  3.05994928e-01, -6.47587836e-01,\n",
       "          8.33121717e-01, -1.17937535e-01],\n",
       "        [ 6.99419081e-02, -1.86203647e+00,  1.37871695e+00,\n",
       "         -1.38956165e+00, -7.27138638e-01],\n",
       "        [ 6.73951507e-01, -9.03529882e-01,  4.53612134e-02,\n",
       "         -2.20737839e+00, -5.38112819e-01]]], dtype=float32)>"
      ]
     },
     "execution_count": 92,
     "metadata": {},
     "output_type": "execute_result"
    }
   ],
   "source": [
    "tensor = ran_generator.normal(shape=(3,4,5))\n",
    "tensor"
   ]
  },
  {
   "cell_type": "code",
   "execution_count": 99,
   "metadata": {},
   "outputs": [
    {
     "data": {
      "text/plain": [
       "<tf.Tensor: shape=(4, 5, 3), dtype=float32, numpy=\n",
       "array([[[-1.36147153e+00, -7.67167449e-01, -5.56336977e-02],\n",
       "        [-2.33377159e-01,  9.24597621e-01, -2.86156356e-01],\n",
       "        [-2.28903580e+00, -1.93849206e+00,  6.93222225e-01],\n",
       "        [ 9.93328989e-02, -1.57898709e-01,  1.65933144e+00],\n",
       "        [ 3.15539688e-01, -1.04575431e+00, -9.58449185e-01]],\n",
       "\n",
       "       [[ 1.04535581e-03, -1.52267671e+00, -1.20679367e+00],\n",
       "        [ 5.71016848e-01, -5.60429394e-01,  3.05994928e-01],\n",
       "        [ 1.03863835e+00, -2.87943203e-02, -6.47587836e-01],\n",
       "        [-1.53552532e-01, -5.75450361e-01,  8.33121717e-01],\n",
       "        [-6.78686440e-01,  6.66985452e-01, -1.17937535e-01]],\n",
       "\n",
       "       [[ 1.21322966e+00, -2.95351446e-01,  6.99419081e-02],\n",
       "        [-3.41942906e-01,  2.36252218e-01, -1.86203647e+00],\n",
       "        [ 1.23073947e+00,  3.06836069e-01,  1.37871695e+00],\n",
       "        [ 9.98039961e-01,  2.21696403e-02, -1.38956165e+00],\n",
       "        [ 1.21679735e+00, -4.53152269e-01, -7.27138638e-01]],\n",
       "\n",
       "       [[-1.27996218e+00, -1.03087842e+00,  6.73951507e-01],\n",
       "        [ 3.57582390e-01,  9.21760499e-01, -9.03529882e-01],\n",
       "        [-6.28156513e-02,  1.37657726e+00,  4.53612134e-02],\n",
       "        [ 2.63933444e+00, -3.12642217e-01, -2.20737839e+00],\n",
       "        [ 6.26899004e-01, -1.29235482e+00, -5.38112819e-01]]],\n",
       "      dtype=float32)>"
      ]
     },
     "execution_count": 99,
     "metadata": {},
     "output_type": "execute_result"
    }
   ],
   "source": [
    "tf.transpose(tensor, perm=[1,2,0])"
   ]
  },
  {
   "cell_type": "markdown",
   "metadata": {},
   "source": [
    "***\n",
    "## Reshape\n",
    "\n",
    "- *Reshape is like you redefine the shape of the tensor as long as the product of all size not change*\n",
    "\n",
    "- *Love the way you like, I'm not that young naive anymore*\n",
    "\n",
    "        (3,4,5) => total element : 3 * 4 * 5 = 60\n",
    "\n",
    "- *Can be reshape into:*\n",
    "\n",
    "        (3,5,4) => total elements : 3 * 5 * 4 = 60 (transposed)\n",
    "\n",
    "        (6, 10) => total elements : 6 * 10 = 60 (properly reshape)\n",
    "        (30, 2) => total elements : 30 * 2 = 60 (properly reshape)\n",
    "\n",
    "\n",
    "        "
   ]
  },
  {
   "cell_type": "code",
   "execution_count": 100,
   "metadata": {},
   "outputs": [
    {
     "data": {
      "text/plain": [
       "<tf.Tensor: shape=(3, 4, 5), dtype=float32, numpy=\n",
       "array([[[-1.36147153e+00, -2.33377159e-01, -2.28903580e+00,\n",
       "          9.93328989e-02,  3.15539688e-01],\n",
       "        [ 1.04535581e-03,  5.71016848e-01,  1.03863835e+00,\n",
       "         -1.53552532e-01, -6.78686440e-01],\n",
       "        [ 1.21322966e+00, -3.41942906e-01,  1.23073947e+00,\n",
       "          9.98039961e-01,  1.21679735e+00],\n",
       "        [-1.27996218e+00,  3.57582390e-01, -6.28156513e-02,\n",
       "          2.63933444e+00,  6.26899004e-01]],\n",
       "\n",
       "       [[-7.67167449e-01,  9.24597621e-01, -1.93849206e+00,\n",
       "         -1.57898709e-01, -1.04575431e+00],\n",
       "        [-1.52267671e+00, -5.60429394e-01, -2.87943203e-02,\n",
       "         -5.75450361e-01,  6.66985452e-01],\n",
       "        [-2.95351446e-01,  2.36252218e-01,  3.06836069e-01,\n",
       "          2.21696403e-02, -4.53152269e-01],\n",
       "        [-1.03087842e+00,  9.21760499e-01,  1.37657726e+00,\n",
       "         -3.12642217e-01, -1.29235482e+00]],\n",
       "\n",
       "       [[-5.56336977e-02, -2.86156356e-01,  6.93222225e-01,\n",
       "          1.65933144e+00, -9.58449185e-01],\n",
       "        [-1.20679367e+00,  3.05994928e-01, -6.47587836e-01,\n",
       "          8.33121717e-01, -1.17937535e-01],\n",
       "        [ 6.99419081e-02, -1.86203647e+00,  1.37871695e+00,\n",
       "         -1.38956165e+00, -7.27138638e-01],\n",
       "        [ 6.73951507e-01, -9.03529882e-01,  4.53612134e-02,\n",
       "         -2.20737839e+00, -5.38112819e-01]]], dtype=float32)>"
      ]
     },
     "execution_count": 100,
     "metadata": {},
     "output_type": "execute_result"
    }
   ],
   "source": [
    "tensor"
   ]
  },
  {
   "cell_type": "code",
   "execution_count": 102,
   "metadata": {},
   "outputs": [
    {
     "data": {
      "text/plain": [
       "<tf.Tensor: shape=(12, 5), dtype=float32, numpy=\n",
       "array([[-1.36147153e+00, -2.33377159e-01, -2.28903580e+00,\n",
       "         9.93328989e-02,  3.15539688e-01],\n",
       "       [ 1.04535581e-03,  5.71016848e-01,  1.03863835e+00,\n",
       "        -1.53552532e-01, -6.78686440e-01],\n",
       "       [ 1.21322966e+00, -3.41942906e-01,  1.23073947e+00,\n",
       "         9.98039961e-01,  1.21679735e+00],\n",
       "       [-1.27996218e+00,  3.57582390e-01, -6.28156513e-02,\n",
       "         2.63933444e+00,  6.26899004e-01],\n",
       "       [-7.67167449e-01,  9.24597621e-01, -1.93849206e+00,\n",
       "        -1.57898709e-01, -1.04575431e+00],\n",
       "       [-1.52267671e+00, -5.60429394e-01, -2.87943203e-02,\n",
       "        -5.75450361e-01,  6.66985452e-01],\n",
       "       [-2.95351446e-01,  2.36252218e-01,  3.06836069e-01,\n",
       "         2.21696403e-02, -4.53152269e-01],\n",
       "       [-1.03087842e+00,  9.21760499e-01,  1.37657726e+00,\n",
       "        -3.12642217e-01, -1.29235482e+00],\n",
       "       [-5.56336977e-02, -2.86156356e-01,  6.93222225e-01,\n",
       "         1.65933144e+00, -9.58449185e-01],\n",
       "       [-1.20679367e+00,  3.05994928e-01, -6.47587836e-01,\n",
       "         8.33121717e-01, -1.17937535e-01],\n",
       "       [ 6.99419081e-02, -1.86203647e+00,  1.37871695e+00,\n",
       "        -1.38956165e+00, -7.27138638e-01],\n",
       "       [ 6.73951507e-01, -9.03529882e-01,  4.53612134e-02,\n",
       "        -2.20737839e+00, -5.38112819e-01]], dtype=float32)>"
      ]
     },
     "execution_count": 102,
     "metadata": {},
     "output_type": "execute_result"
    }
   ],
   "source": [
    "tf.reshape(tensor, shape=(12,5))"
   ]
  },
  {
   "cell_type": "markdown",
   "metadata": {},
   "source": [
    "***\n",
    "## One-hot encoding"
   ]
  },
  {
   "cell_type": "code",
   "execution_count": 113,
   "metadata": {},
   "outputs": [
    {
     "data": {
      "text/plain": [
       "<tf.Tensor: shape=(3, 4), dtype=float32, numpy=\n",
       "array([[0., 0., 0., 0.],\n",
       "       [0., 0., 0., 0.],\n",
       "       [0., 0., 0., 0.]], dtype=float32)>"
      ]
     },
     "execution_count": 113,
     "metadata": {},
     "output_type": "execute_result"
    }
   ],
   "source": [
    "tf.one_hot([16,10,2004], depth=4)"
   ]
  },
  {
   "cell_type": "code",
   "execution_count": null,
   "metadata": {},
   "outputs": [],
   "source": []
  },
  {
   "cell_type": "code",
   "execution_count": null,
   "metadata": {},
   "outputs": [],
   "source": []
  },
  {
   "cell_type": "code",
   "execution_count": null,
   "metadata": {},
   "outputs": [],
   "source": []
  }
 ],
 "metadata": {
  "kernelspec": {
   "display_name": "base",
   "language": "python",
   "name": "python3"
  },
  "language_info": {
   "codemirror_mode": {
    "name": "ipython",
    "version": 3
   },
   "file_extension": ".py",
   "mimetype": "text/x-python",
   "name": "python",
   "nbconvert_exporter": "python",
   "pygments_lexer": "ipython3",
   "version": "3.12.2"
  }
 },
 "nbformat": 4,
 "nbformat_minor": 2
}
